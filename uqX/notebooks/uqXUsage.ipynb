{
 "cells": [
  {
   "metadata": {},
   "cell_type": "markdown",
   "source": "## making sure of dependency compatilibility (tf - tf.prob - tf.keras)",
   "id": "d6b4062f10e833e2"
  },
  {
   "metadata": {},
   "cell_type": "code",
   "source": [
    "import tensorflow as tf\n",
    "import tensorflow_probability as tfp\n",
    "\n",
    "print(\"TensorFlow version:\", tf.__version__)  # Should print 2.17.0\n",
    "print(\"TFP version:\", tfp.__version__)        # Should print 0.24.0\n",
    "\n",
    "# Test TF-Keras integration\n",
    "model = tf.keras.Sequential([\n",
    "    tf.keras.layers.Dense(10, activation='relu'),\n",
    "    tf.keras.layers.Dense(1)\n",
    "])\n",
    "\n",
    "print(\"Model initialized successfully.\")"
   ],
   "id": "3a67484c7529882d",
   "outputs": [],
   "execution_count": null
  },
  {
   "metadata": {
    "collapsed": true,
    "ExecuteTime": {
     "end_time": "2024-11-18T20:58:39.541272Z",
     "start_time": "2024-11-18T20:58:39.525265Z"
    }
   },
   "cell_type": "code",
   "source": [
    "import tensorflow as tf\n",
    "import tensorflow_probability as tfp\n",
    "from uqX.modeling.uqXModel import uqXModel\n",
    "from sklearn.decomposition import PCA\n",
    "from sklearn.neighbors import KernelDensity\n",
    "import matplotlib.pyplot as plt\n",
    "import numpy as np\n",
    "\n",
    "\n",
    "\n",
    "(X_train, y_train), (X_val, y_val) = tf.keras.datasets.mnist.load_data()\n",
    "X_train = X_train.reshape(-1, 784) / 255.0\n",
    "X_val = X_val.reshape(-1, 784) / 255.0\n",
    "\n",
    "uq_model = uqXModel()\n",
    "uq_model.plot_density_with_pca(X_train)"
   ],
   "id": "initial_id",
   "outputs": [
    {
     "ename": "SyntaxError",
     "evalue": "'(' was never closed (3030420228.py, line 16)",
     "output_type": "error",
     "traceback": [
      "\u001B[1;36m  Cell \u001B[1;32mIn[2], line 16\u001B[1;36m\u001B[0m\n\u001B[1;33m    uq_model.plot_density_with_pca(X_train\u001B[0m\n\u001B[1;37m                                  ^\u001B[0m\n\u001B[1;31mSyntaxError\u001B[0m\u001B[1;31m:\u001B[0m '(' was never closed\n"
     ]
    }
   ],
   "execution_count": 2
  },
  {
   "metadata": {
    "ExecuteTime": {
     "end_time": "2024-11-18T20:58:48.766955Z",
     "start_time": "2024-11-18T20:58:47.919271Z"
    }
   },
   "cell_type": "code",
   "source": [
    "data = (X_train, y_train, X_val, y_val)\n",
    "uq_model.train_model(data, uq_method=\"bayes_by_backprop\")"
   ],
   "id": "ec650b846fa64c3d",
   "outputs": [
    {
     "name": "stderr",
     "output_type": "stream",
     "text": [
      "C:\\Users\\Studium\\Documents\\uni\\bachelorarbeit\\uqX\\.venv\\lib\\site-packages\\keras\\src\\layers\\core\\input_layer.py:26: UserWarning: Argument `input_shape` is deprecated. Use `shape` instead.\n",
      "  warnings.warn(\n"
     ]
    },
    {
     "name": "stdout",
     "output_type": "stream",
     "text": [
      "WARNING:tensorflow:From C:\\Users\\Studium\\Documents\\uni\\bachelorarbeit\\uqX\\.venv\\lib\\site-packages\\tf_keras\\src\\backend.py:873: The name tf.get_default_graph is deprecated. Please use tf.compat.v1.get_default_graph instead.\n",
      "\n"
     ]
    },
    {
     "ename": "ValueError",
     "evalue": "Only instances of `keras.Layer` can be added to a Sequential model. Received: <tensorflow_probability.python.layers.dense_variational_v2.DenseVariational object at 0x0000023B867B7B80> (of type <class 'tensorflow_probability.python.layers.dense_variational_v2.DenseVariational'>)",
     "output_type": "error",
     "traceback": [
      "\u001B[1;31m---------------------------------------------------------------------------\u001B[0m",
      "\u001B[1;31mValueError\u001B[0m                                Traceback (most recent call last)",
      "Cell \u001B[1;32mIn[3], line 2\u001B[0m\n\u001B[0;32m      1\u001B[0m data \u001B[38;5;241m=\u001B[39m (X_train, y_train, X_val, y_val)\n\u001B[1;32m----> 2\u001B[0m \u001B[43muq_model\u001B[49m\u001B[38;5;241;43m.\u001B[39;49m\u001B[43mtrain_model\u001B[49m\u001B[43m(\u001B[49m\u001B[43mdata\u001B[49m\u001B[43m,\u001B[49m\u001B[43m \u001B[49m\u001B[43muq_method\u001B[49m\u001B[38;5;241;43m=\u001B[39;49m\u001B[38;5;124;43m\"\u001B[39;49m\u001B[38;5;124;43mbayes_by_backprop\u001B[39;49m\u001B[38;5;124;43m\"\u001B[39;49m\u001B[43m)\u001B[49m\n",
      "File \u001B[1;32m~\\Documents\\uni\\bachelorarbeit\\uqX\\uqX\\modeling\\uqXModel.py:35\u001B[0m, in \u001B[0;36muqXModel.train_model\u001B[1;34m(self, data, model_type, uq_method)\u001B[0m\n\u001B[0;32m     33\u001B[0m     \u001B[38;5;28;01mreturn\u001B[39;00m \u001B[38;5;28mself\u001B[39m\u001B[38;5;241m.\u001B[39m_apply_deep_ensemble(X_train, y_train, X_val, y_val)\n\u001B[0;32m     34\u001B[0m \u001B[38;5;28;01melif\u001B[39;00m uq_method \u001B[38;5;241m==\u001B[39m \u001B[38;5;124m\"\u001B[39m\u001B[38;5;124mbayes_by_backprop\u001B[39m\u001B[38;5;124m\"\u001B[39m:\n\u001B[1;32m---> 35\u001B[0m     \u001B[38;5;28;01mreturn\u001B[39;00m \u001B[38;5;28;43mself\u001B[39;49m\u001B[38;5;241;43m.\u001B[39;49m\u001B[43m_apply_bayes_by_backprop\u001B[49m\u001B[43m(\u001B[49m\u001B[43mX_train\u001B[49m\u001B[43m,\u001B[49m\u001B[43m \u001B[49m\u001B[43my_train\u001B[49m\u001B[43m,\u001B[49m\u001B[43m \u001B[49m\u001B[43mX_val\u001B[49m\u001B[43m,\u001B[49m\u001B[43m \u001B[49m\u001B[43my_val\u001B[49m\u001B[43m)\u001B[49m\n\u001B[0;32m     36\u001B[0m \u001B[38;5;28;01melif\u001B[39;00m model_type \u001B[38;5;241m==\u001B[39m \u001B[38;5;124m\"\u001B[39m\u001B[38;5;124mcnn\u001B[39m\u001B[38;5;124m\"\u001B[39m:\n\u001B[0;32m     37\u001B[0m     \u001B[38;5;28mself\u001B[39m\u001B[38;5;241m.\u001B[39mmodel \u001B[38;5;241m=\u001B[39m \u001B[38;5;28mself\u001B[39m\u001B[38;5;241m.\u001B[39m_train_cnn(X_train, y_train, uq_method)\n",
      "File \u001B[1;32m~\\Documents\\uni\\bachelorarbeit\\uqX\\uqX\\modeling\\uqXModel.py:66\u001B[0m, in \u001B[0;36muqXModel._apply_bayes_by_backprop\u001B[1;34m(self, X_train, y_train, X_val, y_val)\u001B[0m\n\u001B[0;32m     63\u001B[0m     \u001B[38;5;28;01mreturn\u001B[39;00m tfp\u001B[38;5;241m.\u001B[39mlayers\u001B[38;5;241m.\u001B[39mDenseVariational\u001B[38;5;241m.\u001B[39mdefault_mean_field_normal_fn()\n\u001B[0;32m     65\u001B[0m \u001B[38;5;66;03m# Define Bayesian neural network\u001B[39;00m\n\u001B[1;32m---> 66\u001B[0m bnn \u001B[38;5;241m=\u001B[39m \u001B[43mtf\u001B[49m\u001B[38;5;241;43m.\u001B[39;49m\u001B[43mkeras\u001B[49m\u001B[38;5;241;43m.\u001B[39;49m\u001B[43mSequential\u001B[49m\u001B[43m(\u001B[49m\u001B[43m[\u001B[49m\n\u001B[0;32m     67\u001B[0m \u001B[43m    \u001B[49m\u001B[43mtf\u001B[49m\u001B[38;5;241;43m.\u001B[39;49m\u001B[43mkeras\u001B[49m\u001B[38;5;241;43m.\u001B[39;49m\u001B[43mlayers\u001B[49m\u001B[38;5;241;43m.\u001B[39;49m\u001B[43mInputLayer\u001B[49m\u001B[43m(\u001B[49m\u001B[43minput_shape\u001B[49m\u001B[38;5;241;43m=\u001B[39;49m\u001B[43m(\u001B[49m\u001B[43minput_dim\u001B[49m\u001B[43m,\u001B[49m\u001B[43m)\u001B[49m\u001B[43m)\u001B[49m\u001B[43m,\u001B[49m\n\u001B[0;32m     68\u001B[0m \u001B[43m    \u001B[49m\u001B[43mtfp\u001B[49m\u001B[38;5;241;43m.\u001B[39;49m\u001B[43mlayers\u001B[49m\u001B[38;5;241;43m.\u001B[39;49m\u001B[43mDenseVariational\u001B[49m\u001B[43m(\u001B[49m\n\u001B[0;32m     69\u001B[0m \u001B[43m        \u001B[49m\u001B[43munits\u001B[49m\u001B[38;5;241;43m=\u001B[39;49m\u001B[38;5;241;43m64\u001B[39;49m\u001B[43m,\u001B[49m\n\u001B[0;32m     70\u001B[0m \u001B[43m        \u001B[49m\u001B[43mmake_prior_fn\u001B[49m\u001B[38;5;241;43m=\u001B[39;49m\u001B[43mmake_prior_fn\u001B[49m\u001B[43m,\u001B[49m\n\u001B[0;32m     71\u001B[0m \u001B[43m        \u001B[49m\u001B[43mmake_posterior_fn\u001B[49m\u001B[38;5;241;43m=\u001B[39;49m\u001B[43mmake_posterior_fn\u001B[49m\u001B[43m,\u001B[49m\n\u001B[0;32m     72\u001B[0m \u001B[43m        \u001B[49m\u001B[43mactivation\u001B[49m\u001B[38;5;241;43m=\u001B[39;49m\u001B[38;5;124;43m'\u001B[39;49m\u001B[38;5;124;43mrelu\u001B[39;49m\u001B[38;5;124;43m'\u001B[39;49m\n\u001B[0;32m     73\u001B[0m \u001B[43m    \u001B[49m\u001B[43m)\u001B[49m\u001B[43m,\u001B[49m\n\u001B[0;32m     74\u001B[0m \u001B[43m    \u001B[49m\u001B[43mtfp\u001B[49m\u001B[38;5;241;43m.\u001B[39;49m\u001B[43mlayers\u001B[49m\u001B[38;5;241;43m.\u001B[39;49m\u001B[43mDenseVariational\u001B[49m\u001B[43m(\u001B[49m\n\u001B[0;32m     75\u001B[0m \u001B[43m        \u001B[49m\u001B[43munits\u001B[49m\u001B[38;5;241;43m=\u001B[39;49m\u001B[43mnum_classes\u001B[49m\u001B[43m,\u001B[49m\n\u001B[0;32m     76\u001B[0m \u001B[43m        \u001B[49m\u001B[43mmake_prior_fn\u001B[49m\u001B[38;5;241;43m=\u001B[39;49m\u001B[43mmake_prior_fn\u001B[49m\u001B[43m,\u001B[49m\n\u001B[0;32m     77\u001B[0m \u001B[43m        \u001B[49m\u001B[43mmake_posterior_fn\u001B[49m\u001B[38;5;241;43m=\u001B[39;49m\u001B[43mmake_posterior_fn\u001B[49m\u001B[43m,\u001B[49m\n\u001B[0;32m     78\u001B[0m \u001B[43m        \u001B[49m\u001B[43mactivation\u001B[49m\u001B[38;5;241;43m=\u001B[39;49m\u001B[38;5;124;43m'\u001B[39;49m\u001B[38;5;124;43msoftmax\u001B[39;49m\u001B[38;5;124;43m'\u001B[39;49m\n\u001B[0;32m     79\u001B[0m \u001B[43m    \u001B[49m\u001B[43m)\u001B[49m\n\u001B[0;32m     80\u001B[0m \u001B[43m\u001B[49m\u001B[43m]\u001B[49m\u001B[43m)\u001B[49m\n\u001B[0;32m     82\u001B[0m \u001B[38;5;66;03m# Compile the model\u001B[39;00m\n\u001B[0;32m     83\u001B[0m bnn\u001B[38;5;241m.\u001B[39mcompile(\n\u001B[0;32m     84\u001B[0m     optimizer\u001B[38;5;241m=\u001B[39mtf\u001B[38;5;241m.\u001B[39moptimizers\u001B[38;5;241m.\u001B[39mAdam(learning_rate\u001B[38;5;241m=\u001B[39m\u001B[38;5;241m0.01\u001B[39m),\n\u001B[0;32m     85\u001B[0m     loss\u001B[38;5;241m=\u001B[39mtf\u001B[38;5;241m.\u001B[39mkeras\u001B[38;5;241m.\u001B[39mlosses\u001B[38;5;241m.\u001B[39mSparseCategoricalCrossentropy(),\n\u001B[0;32m     86\u001B[0m     metrics\u001B[38;5;241m=\u001B[39m[\u001B[38;5;124m'\u001B[39m\u001B[38;5;124maccuracy\u001B[39m\u001B[38;5;124m'\u001B[39m]\n\u001B[0;32m     87\u001B[0m )\n",
      "File \u001B[1;32m~\\Documents\\uni\\bachelorarbeit\\uqX\\.venv\\lib\\site-packages\\keras\\src\\models\\sequential.py:75\u001B[0m, in \u001B[0;36mSequential.__init__\u001B[1;34m(self, layers, trainable, name)\u001B[0m\n\u001B[0;32m     73\u001B[0m \u001B[38;5;28;01mif\u001B[39;00m layers:\n\u001B[0;32m     74\u001B[0m     \u001B[38;5;28;01mfor\u001B[39;00m layer \u001B[38;5;129;01min\u001B[39;00m layers:\n\u001B[1;32m---> 75\u001B[0m         \u001B[38;5;28;43mself\u001B[39;49m\u001B[38;5;241;43m.\u001B[39;49m\u001B[43madd\u001B[49m\u001B[43m(\u001B[49m\u001B[43mlayer\u001B[49m\u001B[43m,\u001B[49m\u001B[43m \u001B[49m\u001B[43mrebuild\u001B[49m\u001B[38;5;241;43m=\u001B[39;49m\u001B[38;5;28;43;01mFalse\u001B[39;49;00m\u001B[43m)\u001B[49m\n\u001B[0;32m     76\u001B[0m     \u001B[38;5;28mself\u001B[39m\u001B[38;5;241m.\u001B[39m_maybe_rebuild()\n",
      "File \u001B[1;32m~\\Documents\\uni\\bachelorarbeit\\uqX\\.venv\\lib\\site-packages\\keras\\src\\models\\sequential.py:97\u001B[0m, in \u001B[0;36mSequential.add\u001B[1;34m(self, layer, rebuild)\u001B[0m\n\u001B[0;32m     95\u001B[0m         layer \u001B[38;5;241m=\u001B[39m origin_layer\n\u001B[0;32m     96\u001B[0m \u001B[38;5;28;01mif\u001B[39;00m \u001B[38;5;129;01mnot\u001B[39;00m \u001B[38;5;28misinstance\u001B[39m(layer, Layer):\n\u001B[1;32m---> 97\u001B[0m     \u001B[38;5;28;01mraise\u001B[39;00m \u001B[38;5;167;01mValueError\u001B[39;00m(\n\u001B[0;32m     98\u001B[0m         \u001B[38;5;124m\"\u001B[39m\u001B[38;5;124mOnly instances of `keras.Layer` can be \u001B[39m\u001B[38;5;124m\"\u001B[39m\n\u001B[0;32m     99\u001B[0m         \u001B[38;5;124mf\u001B[39m\u001B[38;5;124m\"\u001B[39m\u001B[38;5;124madded to a Sequential model. Received: \u001B[39m\u001B[38;5;132;01m{\u001B[39;00mlayer\u001B[38;5;132;01m}\u001B[39;00m\u001B[38;5;124m \u001B[39m\u001B[38;5;124m\"\u001B[39m\n\u001B[0;32m    100\u001B[0m         \u001B[38;5;124mf\u001B[39m\u001B[38;5;124m\"\u001B[39m\u001B[38;5;124m(of type \u001B[39m\u001B[38;5;132;01m{\u001B[39;00m\u001B[38;5;28mtype\u001B[39m(layer)\u001B[38;5;132;01m}\u001B[39;00m\u001B[38;5;124m)\u001B[39m\u001B[38;5;124m\"\u001B[39m\n\u001B[0;32m    101\u001B[0m     )\n\u001B[0;32m    102\u001B[0m \u001B[38;5;28;01mif\u001B[39;00m \u001B[38;5;129;01mnot\u001B[39;00m \u001B[38;5;28mself\u001B[39m\u001B[38;5;241m.\u001B[39m_is_layer_name_unique(layer):\n\u001B[0;32m    103\u001B[0m     \u001B[38;5;28;01mraise\u001B[39;00m \u001B[38;5;167;01mValueError\u001B[39;00m(\n\u001B[0;32m    104\u001B[0m         \u001B[38;5;124m\"\u001B[39m\u001B[38;5;124mAll layers added to a Sequential model \u001B[39m\u001B[38;5;124m\"\u001B[39m\n\u001B[0;32m    105\u001B[0m         \u001B[38;5;124mf\u001B[39m\u001B[38;5;124m\"\u001B[39m\u001B[38;5;124mshould have unique names. Name \u001B[39m\u001B[38;5;124m'\u001B[39m\u001B[38;5;132;01m{\u001B[39;00mlayer\u001B[38;5;241m.\u001B[39mname\u001B[38;5;132;01m}\u001B[39;00m\u001B[38;5;124m'\u001B[39m\u001B[38;5;124m is already \u001B[39m\u001B[38;5;124m\"\u001B[39m\n\u001B[0;32m    106\u001B[0m         \u001B[38;5;124m\"\u001B[39m\u001B[38;5;124mthe name of a layer in this model. Update the `name` argument \u001B[39m\u001B[38;5;124m\"\u001B[39m\n\u001B[0;32m    107\u001B[0m         \u001B[38;5;124m\"\u001B[39m\u001B[38;5;124mto pass a unique name.\u001B[39m\u001B[38;5;124m\"\u001B[39m\n\u001B[0;32m    108\u001B[0m     )\n",
      "\u001B[1;31mValueError\u001B[0m: Only instances of `keras.Layer` can be added to a Sequential model. Received: <tensorflow_probability.python.layers.dense_variational_v2.DenseVariational object at 0x0000023B867B7B80> (of type <class 'tensorflow_probability.python.layers.dense_variational_v2.DenseVariational'>)"
     ]
    }
   ],
   "execution_count": 3
  },
  {
   "metadata": {},
   "cell_type": "code",
   "source": "",
   "id": "87798fba484f8caf",
   "outputs": [],
   "execution_count": null
  },
  {
   "metadata": {},
   "cell_type": "code",
   "source": "",
   "id": "183344b0d718f0c0",
   "outputs": [],
   "execution_count": null
  }
 ],
 "metadata": {
  "kernelspec": {
   "display_name": "Python 3",
   "language": "python",
   "name": "python3"
  },
  "language_info": {
   "codemirror_mode": {
    "name": "ipython",
    "version": 2
   },
   "file_extension": ".py",
   "mimetype": "text/x-python",
   "name": "python",
   "nbconvert_exporter": "python",
   "pygments_lexer": "ipython2",
   "version": "2.7.6"
  }
 },
 "nbformat": 4,
 "nbformat_minor": 5
}
